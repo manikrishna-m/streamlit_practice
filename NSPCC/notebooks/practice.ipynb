{
 "cells": [
  {
   "cell_type": "code",
   "execution_count": 1,
   "id": "7f635bb5-a558-48e5-b176-505d20d6ac58",
   "metadata": {},
   "outputs": [],
   "source": [
    "import numpy as np\n",
    "import pandas as pd\n",
    "import seaborn as sns\n",
    "import matplotlib.pyplot as plt"
   ]
  },
  {
   "cell_type": "code",
   "execution_count": 2,
   "id": "d0b1782b-a1cf-40ac-8c0e-e17fa66c89ff",
   "metadata": {},
   "outputs": [],
   "source": [
    "data1 = pd.read_csv(\"../data/raffle_entries_sampled_data.csv\")"
   ]
  },
  {
   "cell_type": "code",
   "execution_count": 87,
   "id": "10bd37a5-8c95-45ae-bc18-b187dd016697",
   "metadata": {
    "scrolled": true
   },
   "outputs": [
    {
     "data": {
      "text/plain": [
       "147"
      ]
     },
     "execution_count": 87,
     "metadata": {},
     "output_type": "execute_result"
    }
   ],
   "source": [
    "data1[data1.duplicated(keep = False)].shape[0]"
   ]
  },
  {
   "cell_type": "code",
   "execution_count": 89,
   "id": "4d7d329d-eb4f-4223-a3ab-aff955b4e47e",
   "metadata": {
    "scrolled": true
   },
   "outputs": [
    {
     "data": {
      "text/plain": [
       "74"
      ]
     },
     "execution_count": 89,
     "metadata": {},
     "output_type": "execute_result"
    }
   ],
   "source": [
    "data1[data1.duplicated()].shape[0]"
   ]
  },
  {
   "cell_type": "code",
   "execution_count": 95,
   "id": "174f1eec-c6f0-4802-8267-740ba35f2379",
   "metadata": {},
   "outputs": [],
   "source": [
    "data1.drop_duplicates(inplace = True)\n",
    "data1.reset_index(drop = True, inplace = True)"
   ]
  },
  {
   "cell_type": "code",
   "execution_count": 97,
   "id": "6b7cee7c-7fad-4520-8153-0c4a651591a6",
   "metadata": {
    "scrolled": true
   },
   "outputs": [
    {
     "data": {
      "text/plain": [
       "PaymentType            0\n",
       "DonationAmount         0\n",
       "GiftAidAmount        926\n",
       "DateEnteredRaffle      0\n",
       "UniqueId               0\n",
       "dtype: int64"
      ]
     },
     "execution_count": 97,
     "metadata": {},
     "output_type": "execute_result"
    }
   ],
   "source": [
    "data1.isna().sum()"
   ]
  },
  {
   "cell_type": "code",
   "execution_count": 99,
   "id": "706601d1-1838-4d66-b203-a2c31ed68cd7",
   "metadata": {
    "scrolled": true
   },
   "outputs": [
    {
     "data": {
      "text/plain": [
       "(926, 5)"
      ]
     },
     "execution_count": 99,
     "metadata": {},
     "output_type": "execute_result"
    }
   ],
   "source": [
    "data1.shape"
   ]
  },
  {
   "cell_type": "code",
   "execution_count": 107,
   "id": "f923c2e9-a94a-4827-b205-0ed72cdb5e66",
   "metadata": {
    "scrolled": true
   },
   "outputs": [
    {
     "name": "stdout",
     "output_type": "stream",
     "text": [
      "<class 'pandas.core.frame.DataFrame'>\n",
      "RangeIndex: 926 entries, 0 to 925\n",
      "Data columns (total 5 columns):\n",
      " #   Column             Non-Null Count  Dtype         \n",
      "---  ------             --------------  -----         \n",
      " 0   PaymentType        926 non-null    object        \n",
      " 1   DonationAmount     926 non-null    float64       \n",
      " 2   GiftAidAmount      0 non-null      float64       \n",
      " 3   DateEnteredRaffle  926 non-null    datetime64[ns]\n",
      " 4   UniqueId           926 non-null    object        \n",
      "dtypes: datetime64[ns](1), float64(2), object(2)\n",
      "memory usage: 36.3+ KB\n"
     ]
    }
   ],
   "source": [
    "data1.info()"
   ]
  },
  {
   "cell_type": "code",
   "execution_count": 108,
   "id": "7b9419af-fdda-4f86-b816-e3dbaf068bca",
   "metadata": {
    "scrolled": true
   },
   "outputs": [
    {
     "data": {
      "text/plain": [
       "910"
      ]
     },
     "execution_count": 108,
     "metadata": {},
     "output_type": "execute_result"
    }
   ],
   "source": [
    "data1[\"UniqueId\"].nunique()"
   ]
  },
  {
   "cell_type": "code",
   "execution_count": 126,
   "id": "3b3f2e75-fbfa-4159-aac6-ed488acc3673",
   "metadata": {
    "scrolled": true
   },
   "outputs": [
    {
     "data": {
      "text/plain": [
       "array(['O', 'C', 'Q', 'E'], dtype=object)"
      ]
     },
     "execution_count": 126,
     "metadata": {},
     "output_type": "execute_result"
    }
   ],
   "source": [
    "data1[\"PaymentType\"].unique()"
   ]
  },
  {
   "cell_type": "code",
   "execution_count": 127,
   "id": "0744e922-aef4-4425-b189-5d88bfd27065",
   "metadata": {
    "scrolled": true
   },
   "outputs": [
    {
     "data": {
      "text/plain": [
       "Q    686\n",
       "E    196\n",
       "O     40\n",
       "C      4\n",
       "Name: PaymentType, dtype: int64"
      ]
     },
     "execution_count": 127,
     "metadata": {},
     "output_type": "execute_result"
    }
   ],
   "source": [
    "data1[\"PaymentType\"].value_counts()"
   ]
  },
  {
   "cell_type": "code",
   "execution_count": 128,
   "id": "7d295691-3a59-4ae5-8d9c-378cb5c2919f",
   "metadata": {
    "scrolled": true
   },
   "outputs": [
    {
     "data": {
      "text/plain": [
       "array([ 6., 12.,  5., 25., 36., 10., 24., 17., 20.,  3., 15., 50., 30.,\n",
       "       14., 18., 11.,  4.,  8.,  1.,  2., 16., 23., 33., 13., 22.])"
      ]
     },
     "execution_count": 128,
     "metadata": {},
     "output_type": "execute_result"
    }
   ],
   "source": [
    "data1[\"DonationAmount\"].unique()"
   ]
  },
  {
   "cell_type": "code",
   "execution_count": 130,
   "id": "95322287-8a9c-405c-b156-f1635b5995f4",
   "metadata": {
    "scrolled": true
   },
   "outputs": [
    {
     "data": {
      "text/plain": [
       "12.0    383\n",
       "6.0     187\n",
       "24.0    111\n",
       "5.0      86\n",
       "36.0     42\n",
       "10.0     30\n",
       "14.0     15\n",
       "20.0     11\n",
       "15.0     10\n",
       "3.0       9\n",
       "1.0       8\n",
       "11.0      6\n",
       "2.0       6\n",
       "8.0       4\n",
       "4.0       4\n",
       "30.0      3\n",
       "25.0      2\n",
       "22.0      2\n",
       "18.0      1\n",
       "50.0      1\n",
       "17.0      1\n",
       "16.0      1\n",
       "23.0      1\n",
       "33.0      1\n",
       "13.0      1\n",
       "Name: DonationAmount, dtype: int64"
      ]
     },
     "execution_count": 130,
     "metadata": {},
     "output_type": "execute_result"
    }
   ],
   "source": [
    "data1[\"DonationAmount\"].value_counts()"
   ]
  },
  {
   "cell_type": "code",
   "execution_count": 123,
   "id": "17780aa3-8172-48ae-bdb5-ce412c2676a2",
   "metadata": {
    "scrolled": true
   },
   "outputs": [
    {
     "data": {
      "text/html": [
       "<div>\n",
       "<style scoped>\n",
       "    .dataframe tbody tr th:only-of-type {\n",
       "        vertical-align: middle;\n",
       "    }\n",
       "\n",
       "    .dataframe tbody tr th {\n",
       "        vertical-align: top;\n",
       "    }\n",
       "\n",
       "    .dataframe thead th {\n",
       "        text-align: right;\n",
       "    }\n",
       "</style>\n",
       "<table border=\"1\" class=\"dataframe\">\n",
       "  <thead>\n",
       "    <tr style=\"text-align: right;\">\n",
       "      <th></th>\n",
       "      <th>UniqueId</th>\n",
       "      <th>Count</th>\n",
       "    </tr>\n",
       "  </thead>\n",
       "  <tbody>\n",
       "    <tr>\n",
       "      <th>0</th>\n",
       "      <td>28c25cfa-443d-11ef-b4f6-6045bdd1caa7</td>\n",
       "      <td>2</td>\n",
       "    </tr>\n",
       "    <tr>\n",
       "      <th>1</th>\n",
       "      <td>28c0a450-443d-11ef-b4f6-6045bdd1caa7</td>\n",
       "      <td>2</td>\n",
       "    </tr>\n",
       "    <tr>\n",
       "      <th>2</th>\n",
       "      <td>28c122ea-443d-11ef-b4f6-6045bdd1caa7</td>\n",
       "      <td>2</td>\n",
       "    </tr>\n",
       "    <tr>\n",
       "      <th>3</th>\n",
       "      <td>28bf8f20-443d-11ef-b4f6-6045bdd1caa7</td>\n",
       "      <td>2</td>\n",
       "    </tr>\n",
       "    <tr>\n",
       "      <th>4</th>\n",
       "      <td>28c00176-443d-11ef-b4f6-6045bdd1caa7</td>\n",
       "      <td>2</td>\n",
       "    </tr>\n",
       "    <tr>\n",
       "      <th>5</th>\n",
       "      <td>28c08236-443d-11ef-b4f6-6045bdd1caa7</td>\n",
       "      <td>2</td>\n",
       "    </tr>\n",
       "    <tr>\n",
       "      <th>6</th>\n",
       "      <td>28c2db58-443d-11ef-b4f6-6045bdd1caa7</td>\n",
       "      <td>2</td>\n",
       "    </tr>\n",
       "    <tr>\n",
       "      <th>7</th>\n",
       "      <td>28c32d10-443d-11ef-b4f6-6045bdd1caa7</td>\n",
       "      <td>2</td>\n",
       "    </tr>\n",
       "    <tr>\n",
       "      <th>8</th>\n",
       "      <td>28c1ed88-443d-11ef-b4f6-6045bdd1caa7</td>\n",
       "      <td>2</td>\n",
       "    </tr>\n",
       "    <tr>\n",
       "      <th>9</th>\n",
       "      <td>28c2f674-443d-11ef-b4f6-6045bdd1caa7</td>\n",
       "      <td>2</td>\n",
       "    </tr>\n",
       "    <tr>\n",
       "      <th>10</th>\n",
       "      <td>28c15b48-443d-11ef-b4f6-6045bdd1caa7</td>\n",
       "      <td>2</td>\n",
       "    </tr>\n",
       "    <tr>\n",
       "      <th>11</th>\n",
       "      <td>28c07868-443d-11ef-b4f6-6045bdd1caa7</td>\n",
       "      <td>2</td>\n",
       "    </tr>\n",
       "    <tr>\n",
       "      <th>12</th>\n",
       "      <td>28c1f3fa-443d-11ef-b4f6-6045bdd1caa7</td>\n",
       "      <td>2</td>\n",
       "    </tr>\n",
       "    <tr>\n",
       "      <th>13</th>\n",
       "      <td>28c07246-443d-11ef-b4f6-6045bdd1caa7</td>\n",
       "      <td>2</td>\n",
       "    </tr>\n",
       "    <tr>\n",
       "      <th>14</th>\n",
       "      <td>28c24a58-443d-11ef-b4f6-6045bdd1caa7</td>\n",
       "      <td>2</td>\n",
       "    </tr>\n",
       "    <tr>\n",
       "      <th>15</th>\n",
       "      <td>28c05d88-443d-11ef-b4f6-6045bdd1caa7</td>\n",
       "      <td>2</td>\n",
       "    </tr>\n",
       "  </tbody>\n",
       "</table>\n",
       "</div>"
      ],
      "text/plain": [
       "                                UniqueId  Count\n",
       "0   28c25cfa-443d-11ef-b4f6-6045bdd1caa7      2\n",
       "1   28c0a450-443d-11ef-b4f6-6045bdd1caa7      2\n",
       "2   28c122ea-443d-11ef-b4f6-6045bdd1caa7      2\n",
       "3   28bf8f20-443d-11ef-b4f6-6045bdd1caa7      2\n",
       "4   28c00176-443d-11ef-b4f6-6045bdd1caa7      2\n",
       "5   28c08236-443d-11ef-b4f6-6045bdd1caa7      2\n",
       "6   28c2db58-443d-11ef-b4f6-6045bdd1caa7      2\n",
       "7   28c32d10-443d-11ef-b4f6-6045bdd1caa7      2\n",
       "8   28c1ed88-443d-11ef-b4f6-6045bdd1caa7      2\n",
       "9   28c2f674-443d-11ef-b4f6-6045bdd1caa7      2\n",
       "10  28c15b48-443d-11ef-b4f6-6045bdd1caa7      2\n",
       "11  28c07868-443d-11ef-b4f6-6045bdd1caa7      2\n",
       "12  28c1f3fa-443d-11ef-b4f6-6045bdd1caa7      2\n",
       "13  28c07246-443d-11ef-b4f6-6045bdd1caa7      2\n",
       "14  28c24a58-443d-11ef-b4f6-6045bdd1caa7      2\n",
       "15  28c05d88-443d-11ef-b4f6-6045bdd1caa7      2"
      ]
     },
     "execution_count": 123,
     "metadata": {},
     "output_type": "execute_result"
    }
   ],
   "source": [
    "filtered_data = pd.DataFrame(data1[\"UniqueId\"].value_counts()).reset_index().rename(columns = {\n",
    "    \"index\":\"UniqueId\",\n",
    "    \"UniqueId\":\"Count\"\n",
    "})\n",
    "\n",
    "filtered_data[filtered_data[\"Count\"]>1 ]"
   ]
  },
  {
   "cell_type": "code",
   "execution_count": 124,
   "id": "9c5dcb38-20af-4d69-910f-fbcca04e044f",
   "metadata": {},
   "outputs": [
    {
     "data": {
      "text/html": [
       "<div>\n",
       "<style scoped>\n",
       "    .dataframe tbody tr th:only-of-type {\n",
       "        vertical-align: middle;\n",
       "    }\n",
       "\n",
       "    .dataframe tbody tr th {\n",
       "        vertical-align: top;\n",
       "    }\n",
       "\n",
       "    .dataframe thead th {\n",
       "        text-align: right;\n",
       "    }\n",
       "</style>\n",
       "<table border=\"1\" class=\"dataframe\">\n",
       "  <thead>\n",
       "    <tr style=\"text-align: right;\">\n",
       "      <th></th>\n",
       "      <th>PaymentType</th>\n",
       "      <th>DonationAmount</th>\n",
       "      <th>GiftAidAmount</th>\n",
       "      <th>DateEnteredRaffle</th>\n",
       "      <th>UniqueId</th>\n",
       "    </tr>\n",
       "  </thead>\n",
       "  <tbody>\n",
       "    <tr>\n",
       "      <th>127</th>\n",
       "      <td>Q</td>\n",
       "      <td>12.0</td>\n",
       "      <td>NaN</td>\n",
       "      <td>2022-01-27</td>\n",
       "      <td>28c25cfa-443d-11ef-b4f6-6045bdd1caa7</td>\n",
       "    </tr>\n",
       "    <tr>\n",
       "      <th>760</th>\n",
       "      <td>Q</td>\n",
       "      <td>12.0</td>\n",
       "      <td>NaN</td>\n",
       "      <td>2022-02-15</td>\n",
       "      <td>28c25cfa-443d-11ef-b4f6-6045bdd1caa7</td>\n",
       "    </tr>\n",
       "  </tbody>\n",
       "</table>\n",
       "</div>"
      ],
      "text/plain": [
       "    PaymentType  DonationAmount  GiftAidAmount DateEnteredRaffle  \\\n",
       "127           Q            12.0            NaN        2022-01-27   \n",
       "760           Q            12.0            NaN        2022-02-15   \n",
       "\n",
       "                                 UniqueId  \n",
       "127  28c25cfa-443d-11ef-b4f6-6045bdd1caa7  \n",
       "760  28c25cfa-443d-11ef-b4f6-6045bdd1caa7  "
      ]
     },
     "execution_count": 124,
     "metadata": {},
     "output_type": "execute_result"
    }
   ],
   "source": [
    "data1[data1[\"UniqueId\"] == \"28c25cfa-443d-11ef-b4f6-6045bdd1caa7\"]"
   ]
  },
  {
   "cell_type": "code",
   "execution_count": 134,
   "id": "75a2e633-6816-4b1e-b38d-4a2bfdcef274",
   "metadata": {},
   "outputs": [],
   "source": [
    "data1.drop(\"GiftAidAmount\", axis = 1, inplace = True)"
   ]
  },
  {
   "cell_type": "code",
   "execution_count": 135,
   "id": "dfe86c79-0aef-4a98-a20f-19dfaa7f2a27",
   "metadata": {
    "scrolled": true
   },
   "outputs": [
    {
     "data": {
      "text/html": [
       "<div>\n",
       "<style scoped>\n",
       "    .dataframe tbody tr th:only-of-type {\n",
       "        vertical-align: middle;\n",
       "    }\n",
       "\n",
       "    .dataframe tbody tr th {\n",
       "        vertical-align: top;\n",
       "    }\n",
       "\n",
       "    .dataframe thead th {\n",
       "        text-align: right;\n",
       "    }\n",
       "</style>\n",
       "<table border=\"1\" class=\"dataframe\">\n",
       "  <thead>\n",
       "    <tr style=\"text-align: right;\">\n",
       "      <th></th>\n",
       "      <th>PaymentType</th>\n",
       "      <th>DonationAmount</th>\n",
       "      <th>DateEnteredRaffle</th>\n",
       "      <th>UniqueId</th>\n",
       "    </tr>\n",
       "  </thead>\n",
       "  <tbody>\n",
       "    <tr>\n",
       "      <th>0</th>\n",
       "      <td>O</td>\n",
       "      <td>6.0</td>\n",
       "      <td>2022-01-07</td>\n",
       "      <td>28c13262-443d-11ef-b4f6-6045bdd1caa7</td>\n",
       "    </tr>\n",
       "    <tr>\n",
       "      <th>1</th>\n",
       "      <td>O</td>\n",
       "      <td>12.0</td>\n",
       "      <td>2022-01-07</td>\n",
       "      <td>28bfd9c6-443d-11ef-b4f6-6045bdd1caa7</td>\n",
       "    </tr>\n",
       "    <tr>\n",
       "      <th>2</th>\n",
       "      <td>O</td>\n",
       "      <td>12.0</td>\n",
       "      <td>2022-01-07</td>\n",
       "      <td>28c29c6a-443d-11ef-b4f6-6045bdd1caa7</td>\n",
       "    </tr>\n",
       "    <tr>\n",
       "      <th>3</th>\n",
       "      <td>O</td>\n",
       "      <td>12.0</td>\n",
       "      <td>2022-01-07</td>\n",
       "      <td>28c13fb4-443d-11ef-b4f6-6045bdd1caa7</td>\n",
       "    </tr>\n",
       "    <tr>\n",
       "      <th>4</th>\n",
       "      <td>O</td>\n",
       "      <td>5.0</td>\n",
       "      <td>2022-01-07</td>\n",
       "      <td>28c18a32-443d-11ef-b4f6-6045bdd1caa7</td>\n",
       "    </tr>\n",
       "  </tbody>\n",
       "</table>\n",
       "</div>"
      ],
      "text/plain": [
       "  PaymentType  DonationAmount DateEnteredRaffle  \\\n",
       "0           O             6.0        2022-01-07   \n",
       "1           O            12.0        2022-01-07   \n",
       "2           O            12.0        2022-01-07   \n",
       "3           O            12.0        2022-01-07   \n",
       "4           O             5.0        2022-01-07   \n",
       "\n",
       "                               UniqueId  \n",
       "0  28c13262-443d-11ef-b4f6-6045bdd1caa7  \n",
       "1  28bfd9c6-443d-11ef-b4f6-6045bdd1caa7  \n",
       "2  28c29c6a-443d-11ef-b4f6-6045bdd1caa7  \n",
       "3  28c13fb4-443d-11ef-b4f6-6045bdd1caa7  \n",
       "4  28c18a32-443d-11ef-b4f6-6045bdd1caa7  "
      ]
     },
     "execution_count": 135,
     "metadata": {},
     "output_type": "execute_result"
    }
   ],
   "source": [
    "data1.head()"
   ]
  },
  {
   "cell_type": "code",
   "execution_count": 3,
   "id": "3eb14332-783b-4108-9a7d-aaa178c60d17",
   "metadata": {},
   "outputs": [],
   "source": [
    "data2 = pd.read_csv(\"../data/raffle_mailings_sample_data.csv\")"
   ]
  },
  {
   "cell_type": "code",
   "execution_count": 5,
   "id": "227fc0ce-c2bd-4212-bbfc-9979d26f0b6d",
   "metadata": {
    "scrolled": true
   },
   "outputs": [
    {
     "name": "stdout",
     "output_type": "stream",
     "text": [
      "<class 'pandas.core.frame.DataFrame'>\n",
      "RangeIndex: 1000 entries, 0 to 999\n",
      "Data columns (total 5 columns):\n",
      " #   Column             Non-Null Count  Dtype  \n",
      "---  ------             --------------  -----  \n",
      " 0   PaymentType        1000 non-null   object \n",
      " 1   DonationAmount     1000 non-null   float64\n",
      " 2   GiftAidAmount      0 non-null      float64\n",
      " 3   DateEnteredRaffle  1000 non-null   object \n",
      " 4   UniqueId           1000 non-null   object \n",
      "dtypes: float64(2), object(3)\n",
      "memory usage: 39.2+ KB\n"
     ]
    }
   ],
   "source": [
    "data1.info()"
   ]
  },
  {
   "cell_type": "code",
   "execution_count": 6,
   "id": "9387ca39-2f63-4ad1-b368-90c743e12256",
   "metadata": {
    "scrolled": true
   },
   "outputs": [
    {
     "name": "stdout",
     "output_type": "stream",
     "text": [
      "<class 'pandas.core.frame.DataFrame'>\n",
      "RangeIndex: 1000 entries, 0 to 999\n",
      "Data columns (total 6 columns):\n",
      " #   Column             Non-Null Count  Dtype  \n",
      "---  ------             --------------  -----  \n",
      " 0   RaffleMailingDate  1000 non-null   object \n",
      " 1   Title              972 non-null    object \n",
      " 2   Gender             953 non-null    object \n",
      " 3   RecruitmentSource  999 non-null    object \n",
      " 4   LotteryPlays       47 non-null     float64\n",
      " 5   UniqueId           1000 non-null   object \n",
      "dtypes: float64(1), object(5)\n",
      "memory usage: 47.0+ KB\n"
     ]
    }
   ],
   "source": [
    "data2.info()"
   ]
  },
  {
   "cell_type": "code",
   "execution_count": 141,
   "id": "0c4636bd-d3af-4a0f-b6f9-a22418c82716",
   "metadata": {
    "scrolled": true
   },
   "outputs": [
    {
     "data": {
      "text/html": [
       "<div>\n",
       "<style scoped>\n",
       "    .dataframe tbody tr th:only-of-type {\n",
       "        vertical-align: middle;\n",
       "    }\n",
       "\n",
       "    .dataframe tbody tr th {\n",
       "        vertical-align: top;\n",
       "    }\n",
       "\n",
       "    .dataframe thead th {\n",
       "        text-align: right;\n",
       "    }\n",
       "</style>\n",
       "<table border=\"1\" class=\"dataframe\">\n",
       "  <thead>\n",
       "    <tr style=\"text-align: right;\">\n",
       "      <th></th>\n",
       "      <th>RaffleMailingDate</th>\n",
       "      <th>Title</th>\n",
       "      <th>Gender</th>\n",
       "      <th>RecruitmentSource</th>\n",
       "      <th>LotteryPlays</th>\n",
       "      <th>UniqueId</th>\n",
       "    </tr>\n",
       "  </thead>\n",
       "  <tbody>\n",
       "  </tbody>\n",
       "</table>\n",
       "</div>"
      ],
      "text/plain": [
       "Empty DataFrame\n",
       "Columns: [RaffleMailingDate, Title, Gender, RecruitmentSource, LotteryPlays, UniqueId]\n",
       "Index: []"
      ]
     },
     "execution_count": 141,
     "metadata": {},
     "output_type": "execute_result"
    }
   ],
   "source": [
    "data2[data2.duplicated(keep = False)]"
   ]
  },
  {
   "cell_type": "code",
   "execution_count": 142,
   "id": "b6068da5-e7f4-4713-8cda-48d0babbb738",
   "metadata": {},
   "outputs": [
    {
     "data": {
      "text/plain": [
       "1000"
      ]
     },
     "execution_count": 142,
     "metadata": {},
     "output_type": "execute_result"
    }
   ],
   "source": [
    "data2[\"UniqueId\"].nunique()"
   ]
  },
  {
   "cell_type": "code",
   "execution_count": 144,
   "id": "884fa3c9-0541-4ab8-976d-83398dad34a0",
   "metadata": {
    "scrolled": true
   },
   "outputs": [
    {
     "data": {
      "text/plain": [
       "92.0     5\n",
       "81.0     3\n",
       "1.0      3\n",
       "80.0     3\n",
       "77.0     3\n",
       "10.0     2\n",
       "8.0      2\n",
       "24.0     2\n",
       "82.0     1\n",
       "176.0    1\n",
       "4.0      1\n",
       "51.0     1\n",
       "50.0     1\n",
       "69.0     1\n",
       "171.0    1\n",
       "68.0     1\n",
       "86.0     1\n",
       "89.0     1\n",
       "26.0     1\n",
       "156.0    1\n",
       "85.0     1\n",
       "84.0     1\n",
       "22.0     1\n",
       "174.0    1\n",
       "158.0    1\n",
       "67.0     1\n",
       "18.0     1\n",
       "7.0      1\n",
       "20.0     1\n",
       "3.0      1\n",
       "98.0     1\n",
       "83.0     1\n",
       "Name: LotteryPlays, dtype: int64"
      ]
     },
     "execution_count": 144,
     "metadata": {},
     "output_type": "execute_result"
    }
   ],
   "source": [
    "data2[\"LotteryPlays\"].value_counts()"
   ]
  },
  {
   "cell_type": "code",
   "execution_count": null,
   "id": "ff73f31a-41a4-4a35-a103-475d0c6b1809",
   "metadata": {},
   "outputs": [],
   "source": []
  }
 ],
 "metadata": {
  "kernelspec": {
   "display_name": "Python 3 (ipykernel)",
   "language": "python",
   "name": "python3"
  },
  "language_info": {
   "codemirror_mode": {
    "name": "ipython",
    "version": 3
   },
   "file_extension": ".py",
   "mimetype": "text/x-python",
   "name": "python",
   "nbconvert_exporter": "python",
   "pygments_lexer": "ipython3",
   "version": "3.10.11"
  }
 },
 "nbformat": 4,
 "nbformat_minor": 5
}
